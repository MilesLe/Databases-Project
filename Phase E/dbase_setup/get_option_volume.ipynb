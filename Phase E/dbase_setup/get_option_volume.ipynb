{
 "cells": [
  {
   "cell_type": "code",
   "execution_count": 1,
   "metadata": {},
   "outputs": [],
   "source": [
    "import numpy as np\n",
    "import pandas as pd\n",
    "import matplotlib.pyplot as plt\n",
    "from scipy.stats import norm\n",
    "from random import random\n",
    "import math"
   ]
  },
  {
   "cell_type": "code",
   "execution_count": 5,
   "metadata": {},
   "outputs": [],
   "source": [
    "import requests\n",
    "import urllib3\n",
    "import datetime\n",
    "urllib3.disable_warnings()\n",
    "\n",
    "# Generate dates\n",
    "base = datetime.datetime.today()\n",
    "date_list = [base - datetime.timedelta(days=x) for x in range(2*365+5)]\n",
    "dates = []\n",
    "for dt in date_list:\n",
    "    if dt.weekday() < 5:\n",
    "        dates.append(dt.strftime(\"%Y%m%d\"))\n",
    "\n",
    "# Tickers\n",
    "tickers = ['SPY','XLC','XLY','XLP','XLE','XLF','XLV','XLI','XLB','XLRE','XLK','XLU']\n",
    "\n",
    "# CSV Columns\n",
    "cols = ['Ticker','Date','CallVol','PutVol','P/C']\n",
    "df = pd.DataFrame(columns=cols)\n",
    "\n",
    "# Main loop\n",
    "for ticker in tickers:\n",
    "    for date in dates:\n",
    "        a = [ticker, date]\n",
    "        for PC in ['C','P']:\n",
    "            r = requests.get(f\"https://marketdata.theocc.com/volume-query?reportDate={date}&format=csv\\\n",
    "            &volumeQueryType=O&symbolType=O&symbol={ticker}&reportType=D&accountType=ALL&productKind=ALL\\\n",
    "            &porc={PC}\", verify=False, allow_redirects=False)\n",
    "            total = -1\n",
    "            for line in r.iter_lines(chunk_size=1024):\n",
    "                # Skip first line\n",
    "                if total == -1:\n",
    "                    total += 1\n",
    "                    continue\n",
    "                if line:\n",
    "                    lineStr = str(line)\n",
    "                    commaIndex = lineStr.find(',')\n",
    "                    total += int(lineStr[2:commaIndex])\n",
    "            a.append(total)\n",
    "        if a[-2] == 0:\n",
    "            continue\n",
    "            a.append(0)\n",
    "        else:\n",
    "            a.append(a[-1]/a[-2])\n",
    "        dfT = pd.DataFrame([a], columns=cols)\n",
    "        df = df.append(dfT, ignore_index=True)\n",
    "df.to_csv('OptionVolume.csv', index=False, header=False)"
   ]
  },
  {
   "cell_type": "code",
   "execution_count": null,
   "metadata": {},
   "outputs": [],
   "source": []
  }
 ],
 "metadata": {
  "anaconda-cloud": {},
  "kernelspec": {
   "display_name": "Python 3",
   "language": "python",
   "name": "python3"
  },
  "language_info": {
   "codemirror_mode": {
    "name": "ipython",
    "version": 3
   },
   "file_extension": ".py",
   "mimetype": "text/x-python",
   "name": "python",
   "nbconvert_exporter": "python",
   "pygments_lexer": "ipython3",
   "version": "3.8.3"
  }
 },
 "nbformat": 4,
 "nbformat_minor": 4
}

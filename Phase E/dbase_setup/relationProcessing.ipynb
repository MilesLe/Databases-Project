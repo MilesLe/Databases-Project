{
 "cells": [
  {
   "cell_type": "code",
   "execution_count": 4,
   "metadata": {},
   "outputs": [],
   "source": [
    "import numpy as np\n",
    "import pandas as pd\n",
    "import matplotlib.pyplot as plt\n",
    "from scipy.stats import norm\n",
    "from random import random\n",
    "import math"
   ]
  },
  {
   "cell_type": "code",
   "execution_count": 24,
   "metadata": {},
   "outputs": [],
   "source": [
    "# Combine relations\n",
    "# Tickers\n",
    "filenames = ['xlb.us.txt','xle.us.txt','xlf.us.txt','xli.us.txt','xlk.us.txt'\\\n",
    "            ,'xlp.us.txt','xlu.us.txt','xlv.us.txt','xly.us.txt']\n",
    "\n",
    "# CSV Columns\n",
    "cols = ['Ticker','Date','Open','High','Low','Close','Volume']\n",
    "df = pd.DataFrame(columns=cols)\n",
    "\n",
    "# Main loop\n",
    "for filename in filenames:\n",
    "    dfT = pd.read_csv(filename)\n",
    "    dfT = dfT.drop(columns=['OpenInt'])\n",
    "    dfT['Ticker'] = [filename[:-7] for i in range(len(dfT))]\n",
    "    df = df.append(dfT, ignore_index=True)\n",
    "\n",
    "#len(df), df\n",
    "#df.to_csv('SectorETF.csv', index=False)"
   ]
  },
  {
   "cell_type": "code",
   "execution_count": 19,
   "metadata": {},
   "outputs": [],
   "source": [
    "# Convert into YYYY-MM-DD format\n",
    "from datetime import datetime\n",
    "def f(x):\n",
    "    dt = datetime.strptime(str(x), \"%Y%m%d\")\n",
    "    return dt.strftime(\"%Y-%m-%d\")\n",
    "\n",
    "df = pd.read_csv(\"OptionVolume.csv\")\n",
    "df['Date'] = [f(x) for x in df['Date']]\n",
    "df.to_csv('OptionVolume2.csv', index=False)"
   ]
  },
  {
   "cell_type": "code",
   "execution_count": null,
   "metadata": {},
   "outputs": [],
   "source": []
  }
 ],
 "metadata": {
  "anaconda-cloud": {},
  "kernelspec": {
   "display_name": "Python 3",
   "language": "python",
   "name": "python3"
  },
  "language_info": {
   "codemirror_mode": {
    "name": "ipython",
    "version": 3
   },
   "file_extension": ".py",
   "mimetype": "text/x-python",
   "name": "python",
   "nbconvert_exporter": "python",
   "pygments_lexer": "ipython3",
   "version": "3.8.3"
  }
 },
 "nbformat": 4,
 "nbformat_minor": 4
}
